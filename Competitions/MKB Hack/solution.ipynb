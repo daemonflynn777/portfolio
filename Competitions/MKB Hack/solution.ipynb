{
 "cells": [
  {
   "cell_type": "markdown",
   "metadata": {},
   "source": [
    "## Import libraries"
   ]
  },
  {
   "cell_type": "code",
   "execution_count": 7,
   "metadata": {},
   "outputs": [],
   "source": [
    "import pandas as pd\n",
    "import numpy as np\n",
    "from pandas_profiling import ProfileReport"
   ]
  },
  {
   "cell_type": "markdown",
   "metadata": {},
   "source": [
    "## Import data"
   ]
  },
  {
   "cell_type": "code",
   "execution_count": 6,
   "metadata": {},
   "outputs": [
    {
     "name": "stdout",
     "output_type": "stream",
     "text": [
      "<class 'pandas.core.frame.DataFrame'>\n",
      "RangeIndex: 17891 entries, 0 to 17890\n",
      "Columns: 124 entries, id_contract to CITIZENSHIP_NAME\n",
      "dtypes: float64(108), int64(4), object(12)\n",
      "memory usage: 16.9+ MB\n",
      "None\n"
     ]
    }
   ],
   "source": [
    "data_train = pd.read_csv(\"data/train_dataset_hackathon_mkb.csv\", sep = ';', encoding = 'cp1251')\n",
    "data_test = pd.read_csv(\"data/test_dataset_hackathon_mkb.csv\", sep = ';', encoding = 'cp1251')"
   ]
  },
  {
   "cell_type": "markdown",
   "metadata": {},
   "source": [
    "## EDA"
   ]
  },
  {
   "cell_type": "code",
   "execution_count": 8,
   "metadata": {},
   "outputs": [],
   "source": [
    "profile = ProfileReport(data_train, title = \"Train Data Stats\")\n",
    "profile.to_file(\"TrainDataReport.html\")"
   ]
  },
  {
   "cell_type": "code",
   "execution_count": 9,
   "metadata": {},
   "outputs": [],
   "source": [
    "profile = ProfileReport(data_test, title = \"Test Data Stats\")\n",
    "profile.to_file(\"TestDataReport.html\")"
   ]
  },
  {
   "cell_type": "code",
   "execution_count": null,
   "metadata": {},
   "outputs": [],
   "source": []
  }
 ],
 "metadata": {
  "kernelspec": {
   "display_name": "Python 3",
   "language": "python",
   "name": "python3"
  },
  "language_info": {
   "codemirror_mode": {
    "name": "ipython",
    "version": 3
   },
   "file_extension": ".py",
   "mimetype": "text/x-python",
   "name": "python",
   "nbconvert_exporter": "python",
   "pygments_lexer": "ipython3",
   "version": "3.8.10"
  }
 },
 "nbformat": 4,
 "nbformat_minor": 4
}
